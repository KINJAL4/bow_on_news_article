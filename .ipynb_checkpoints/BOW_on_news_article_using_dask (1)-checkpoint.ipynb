{
 "cells": [
  {
   "cell_type": "code",
   "execution_count": null,
   "metadata": {
    "id": "0fKZGluuKuyb"
   },
   "outputs": [],
   "source": [
    "!pip install dask[complete]"
   ]
  },
  {
   "cell_type": "markdown",
   "metadata": {
    "id": "aGshnqRAyF5o"
   },
   "source": [
    "## importing necessary library"
   ]
  },
  {
   "cell_type": "code",
   "execution_count": null,
   "metadata": {
    "id": "4oEoqpfu3Jfl"
   },
   "outputs": [],
   "source": [
    "import dask.dataframe as dd\n",
    "from dask import bag\n",
    "from dask import array\n",
    "from dask.diagnostics import ProgressBar"
   ]
  },
  {
   "cell_type": "code",
   "execution_count": null,
   "metadata": {
    "id": "1OVAKCRyMdJH"
   },
   "outputs": [],
   "source": [
    "import numpy \n",
    "from nltk.tokenize import word_tokenize\n",
    "import re\n",
    "import nltk\n",
    "import string\n",
    "from string import punctuation\n",
    "from nltk.corpus import stopwords\n",
    "from spacy.lang.en.stop_words import STOP_WORDS\n",
    "from nltk import pos_tag\n",
    "from nltk.stem import WordNetLemmatizer\n",
    "from nltk.corpus import wordnet as wn"
   ]
  },
  {
   "cell_type": "code",
   "execution_count": null,
   "metadata": {
    "id": "DmhvJxQ8UmgY"
   },
   "outputs": [],
   "source": [
    "import warnings\n",
    "warnings.filterwarnings('ignore')\n"
   ]
  },
  {
   "cell_type": "code",
   "execution_count": null,
   "metadata": {
    "id": "AK7eETAGKbG-"
   },
   "outputs": [],
   "source": [
    "df = dd.read_csv('/content/drive/MyDrive/all_news.csv',error_bad_lines=False,engine='python', encoding='utf-8',\n",
    "                 dtype={'Unnamed: 0':'object','Unnamed: 0.1':'object','day':'object','year':'object','month':'object'})"
   ]
  },
  {
   "cell_type": "code",
   "execution_count": null,
   "metadata": {
    "colab": {
     "base_uri": "https://localhost:8080/",
     "height": 694
    },
    "id": "b290ExxiKbG-",
    "outputId": "04ed83da-5dee-4ff9-f0d0-915370476333",
    "scrolled": true
   },
   "outputs": [
    {
     "data": {
      "text/html": [
       "<div>\n",
       "<style scoped>\n",
       "    .dataframe tbody tr th:only-of-type {\n",
       "        vertical-align: middle;\n",
       "    }\n",
       "\n",
       "    .dataframe tbody tr th {\n",
       "        vertical-align: top;\n",
       "    }\n",
       "\n",
       "    .dataframe thead th {\n",
       "        text-align: right;\n",
       "    }\n",
       "</style>\n",
       "<table border=\"1\" class=\"dataframe\">\n",
       "  <thead>\n",
       "    <tr style=\"text-align: right;\">\n",
       "      <th></th>\n",
       "      <th>Unnamed: 0</th>\n",
       "      <th>Unnamed: 0.1</th>\n",
       "      <th>date</th>\n",
       "      <th>year</th>\n",
       "      <th>month</th>\n",
       "      <th>day</th>\n",
       "      <th>author</th>\n",
       "      <th>title</th>\n",
       "      <th>article</th>\n",
       "      <th>url</th>\n",
       "      <th>section</th>\n",
       "      <th>publication</th>\n",
       "    </tr>\n",
       "  </thead>\n",
       "  <tbody>\n",
       "    <tr>\n",
       "      <th>0</th>\n",
       "      <td>0</td>\n",
       "      <td>0</td>\n",
       "      <td>2016-12-09 18:31:00</td>\n",
       "      <td>2016</td>\n",
       "      <td>12.0</td>\n",
       "      <td>9</td>\n",
       "      <td>Lee Drutman</td>\n",
       "      <td>We should take concerns about the health of li...</td>\n",
       "      <td>This post is part of Polyarchy, an independent...</td>\n",
       "      <td>https://www.vox.com/polyarchy/2016/12/9/138983...</td>\n",
       "      <td>NaN</td>\n",
       "      <td>Vox</td>\n",
       "    </tr>\n",
       "    <tr>\n",
       "      <th>1</th>\n",
       "      <td>1</td>\n",
       "      <td>1</td>\n",
       "      <td>2016-10-07 21:26:46</td>\n",
       "      <td>2016</td>\n",
       "      <td>10.0</td>\n",
       "      <td>7</td>\n",
       "      <td>Scott Davis</td>\n",
       "      <td>Colts GM Ryan Grigson says Andrew Luck's contr...</td>\n",
       "      <td>The Indianapolis Colts made Andrew Luck the h...</td>\n",
       "      <td>https://www.businessinsider.com/colts-gm-ryan-...</td>\n",
       "      <td>NaN</td>\n",
       "      <td>Business Insider</td>\n",
       "    </tr>\n",
       "    <tr>\n",
       "      <th>2</th>\n",
       "      <td>2</td>\n",
       "      <td>2</td>\n",
       "      <td>2018-01-26 00:00:00</td>\n",
       "      <td>2018</td>\n",
       "      <td>1.0</td>\n",
       "      <td>26</td>\n",
       "      <td>NaN</td>\n",
       "      <td>Trump denies report he ordered Mueller fired</td>\n",
       "      <td>DAVOS, Switzerland (Reuters) - U.S. President ...</td>\n",
       "      <td>https://www.reuters.com/article/us-davos-meeti...</td>\n",
       "      <td>Davos</td>\n",
       "      <td>Reuters</td>\n",
       "    </tr>\n",
       "    <tr>\n",
       "      <th>3</th>\n",
       "      <td>3</td>\n",
       "      <td>3</td>\n",
       "      <td>2019-06-27 00:00:00</td>\n",
       "      <td>2019</td>\n",
       "      <td>6.0</td>\n",
       "      <td>27</td>\n",
       "      <td>NaN</td>\n",
       "      <td>France's Sarkozy reveals his 'Passions' but in...</td>\n",
       "      <td>PARIS (Reuters) - Former French president Nico...</td>\n",
       "      <td>https://www.reuters.com/article/france-politic...</td>\n",
       "      <td>World News</td>\n",
       "      <td>Reuters</td>\n",
       "    </tr>\n",
       "    <tr>\n",
       "      <th>4</th>\n",
       "      <td>4</td>\n",
       "      <td>4</td>\n",
       "      <td>2016-01-27 00:00:00</td>\n",
       "      <td>2016</td>\n",
       "      <td>1.0</td>\n",
       "      <td>27</td>\n",
       "      <td>NaN</td>\n",
       "      <td>Paris Hilton: Woman In Black For Uncle Monty's...</td>\n",
       "      <td>Paris Hilton arrived at LAX Wednesday dressed ...</td>\n",
       "      <td>https://www.tmz.com/2016/01/27/paris-hilton-mo...</td>\n",
       "      <td>NaN</td>\n",
       "      <td>TMZ</td>\n",
       "    </tr>\n",
       "  </tbody>\n",
       "</table>\n",
       "</div>"
      ],
      "text/plain": [
       "  Unnamed: 0 Unnamed: 0.1  ...     section       publication\n",
       "0          0            0  ...         NaN               Vox\n",
       "1          1            1  ...         NaN  Business Insider\n",
       "2          2            2  ...       Davos           Reuters\n",
       "3          3            3  ...  World News           Reuters\n",
       "4          4            4  ...         NaN               TMZ\n",
       "\n",
       "[5 rows x 12 columns]"
      ]
     },
     "execution_count": 8,
     "metadata": {
      "tags": []
     },
     "output_type": "execute_result"
    }
   ],
   "source": [
    "df.head()"
   ]
  },
  {
   "cell_type": "code",
   "execution_count": null,
   "metadata": {
    "colab": {
     "base_uri": "https://localhost:8080/"
    },
    "id": "Uanc5dmEaZw_",
    "outputId": "05014b10-19cf-4d05-bbb8-4bc1a3199154"
   },
   "outputs": [
    {
     "name": "stdout",
     "output_type": "stream",
     "text": [
      "Mounted at /content/drive\n"
     ]
    }
   ],
   "source": [
    "from google.colab import drive\n",
    "drive.mount('/content/drive')"
   ]
  },
  {
   "cell_type": "markdown",
   "metadata": {
    "id": "gps0nQgbKbG_"
   },
   "source": [
    "### dropping unnecessary columns"
   ]
  },
  {
   "cell_type": "code",
   "execution_count": null,
   "metadata": {
    "id": "FVqJVOETKbG_"
   },
   "outputs": [],
   "source": [
    "df_dropped=df.drop(['Unnamed: 0','Unnamed: 0.1','date','year','month','day','url','author','section','publication'], axis=1)"
   ]
  },
  {
   "cell_type": "markdown",
   "metadata": {
    "id": "48nqyf1FKbHA"
   },
   "source": [
    "### fill nan cell with value 0"
   ]
  },
  {
   "cell_type": "code",
   "execution_count": null,
   "metadata": {
    "id": "2CI9ux4_KbHA"
   },
   "outputs": [],
   "source": [
    "data=df_dropped.fillna(value=0,axis=1)"
   ]
  },
  {
   "cell_type": "code",
   "execution_count": null,
   "metadata": {
    "colab": {
     "base_uri": "https://localhost:8080/",
     "height": 203
    },
    "id": "uNeu8r5iKbHA",
    "outputId": "0623036f-7cc8-45d2-e093-015be7fed909"
   },
   "outputs": [
    {
     "data": {
      "text/html": [
       "<div>\n",
       "<style scoped>\n",
       "    .dataframe tbody tr th:only-of-type {\n",
       "        vertical-align: middle;\n",
       "    }\n",
       "\n",
       "    .dataframe tbody tr th {\n",
       "        vertical-align: top;\n",
       "    }\n",
       "\n",
       "    .dataframe thead th {\n",
       "        text-align: right;\n",
       "    }\n",
       "</style>\n",
       "<table border=\"1\" class=\"dataframe\">\n",
       "  <thead>\n",
       "    <tr style=\"text-align: right;\">\n",
       "      <th></th>\n",
       "      <th>title</th>\n",
       "      <th>article</th>\n",
       "    </tr>\n",
       "  </thead>\n",
       "  <tbody>\n",
       "    <tr>\n",
       "      <th>0</th>\n",
       "      <td>We should take concerns about the health of li...</td>\n",
       "      <td>This post is part of Polyarchy, an independent...</td>\n",
       "    </tr>\n",
       "    <tr>\n",
       "      <th>1</th>\n",
       "      <td>Colts GM Ryan Grigson says Andrew Luck's contr...</td>\n",
       "      <td>The Indianapolis Colts made Andrew Luck the h...</td>\n",
       "    </tr>\n",
       "    <tr>\n",
       "      <th>2</th>\n",
       "      <td>Trump denies report he ordered Mueller fired</td>\n",
       "      <td>DAVOS, Switzerland (Reuters) - U.S. President ...</td>\n",
       "    </tr>\n",
       "    <tr>\n",
       "      <th>3</th>\n",
       "      <td>France's Sarkozy reveals his 'Passions' but in...</td>\n",
       "      <td>PARIS (Reuters) - Former French president Nico...</td>\n",
       "    </tr>\n",
       "    <tr>\n",
       "      <th>4</th>\n",
       "      <td>Paris Hilton: Woman In Black For Uncle Monty's...</td>\n",
       "      <td>Paris Hilton arrived at LAX Wednesday dressed ...</td>\n",
       "    </tr>\n",
       "  </tbody>\n",
       "</table>\n",
       "</div>"
      ],
      "text/plain": [
       "                                               title                                            article\n",
       "0  We should take concerns about the health of li...  This post is part of Polyarchy, an independent...\n",
       "1  Colts GM Ryan Grigson says Andrew Luck's contr...   The Indianapolis Colts made Andrew Luck the h...\n",
       "2       Trump denies report he ordered Mueller fired  DAVOS, Switzerland (Reuters) - U.S. President ...\n",
       "3  France's Sarkozy reveals his 'Passions' but in...  PARIS (Reuters) - Former French president Nico...\n",
       "4  Paris Hilton: Woman In Black For Uncle Monty's...  Paris Hilton arrived at LAX Wednesday dressed ..."
      ]
     },
     "execution_count": 11,
     "metadata": {
      "tags": []
     },
     "output_type": "execute_result"
    }
   ],
   "source": [
    "data.head()"
   ]
  },
  {
   "cell_type": "markdown",
   "metadata": {
    "id": "3PTbKxtXKbHB"
   },
   "source": [
    "### combining the title and article column text"
   ]
  },
  {
   "cell_type": "code",
   "execution_count": null,
   "metadata": {
    "id": "y0pJqlPNKbHB"
   },
   "outputs": [],
   "source": [
    "cols= data.columns\n",
    "data['combined'] = data[cols].apply(func=(lambda row: ' '.join(row.values.astype(str))), axis=1)\n",
    "data= data.drop(cols, axis=1)"
   ]
  },
  {
   "cell_type": "code",
   "execution_count": null,
   "metadata": {
    "colab": {
     "base_uri": "https://localhost:8080/",
     "height": 203
    },
    "id": "CsYYx8WrKbHB",
    "outputId": "bbbd0615-bdd8-407c-c148-bb2983738e8e"
   },
   "outputs": [
    {
     "data": {
      "text/html": [
       "<div>\n",
       "<style scoped>\n",
       "    .dataframe tbody tr th:only-of-type {\n",
       "        vertical-align: middle;\n",
       "    }\n",
       "\n",
       "    .dataframe tbody tr th {\n",
       "        vertical-align: top;\n",
       "    }\n",
       "\n",
       "    .dataframe thead th {\n",
       "        text-align: right;\n",
       "    }\n",
       "</style>\n",
       "<table border=\"1\" class=\"dataframe\">\n",
       "  <thead>\n",
       "    <tr style=\"text-align: right;\">\n",
       "      <th></th>\n",
       "      <th>combined</th>\n",
       "    </tr>\n",
       "  </thead>\n",
       "  <tbody>\n",
       "    <tr>\n",
       "      <th>0</th>\n",
       "      <td>We should take concerns about the health of li...</td>\n",
       "    </tr>\n",
       "    <tr>\n",
       "      <th>1</th>\n",
       "      <td>Colts GM Ryan Grigson says Andrew Luck's contr...</td>\n",
       "    </tr>\n",
       "    <tr>\n",
       "      <th>2</th>\n",
       "      <td>Trump denies report he ordered Mueller fired D...</td>\n",
       "    </tr>\n",
       "    <tr>\n",
       "      <th>3</th>\n",
       "      <td>France's Sarkozy reveals his 'Passions' but in...</td>\n",
       "    </tr>\n",
       "    <tr>\n",
       "      <th>4</th>\n",
       "      <td>Paris Hilton: Woman In Black For Uncle Monty's...</td>\n",
       "    </tr>\n",
       "  </tbody>\n",
       "</table>\n",
       "</div>"
      ],
      "text/plain": [
       "                                            combined\n",
       "0  We should take concerns about the health of li...\n",
       "1  Colts GM Ryan Grigson says Andrew Luck's contr...\n",
       "2  Trump denies report he ordered Mueller fired D...\n",
       "3  France's Sarkozy reveals his 'Passions' but in...\n",
       "4  Paris Hilton: Woman In Black For Uncle Monty's..."
      ]
     },
     "execution_count": 13,
     "metadata": {
      "tags": []
     },
     "output_type": "execute_result"
    }
   ],
   "source": [
    "data.head()"
   ]
  },
  {
   "cell_type": "code",
   "execution_count": null,
   "metadata": {
    "colab": {
     "base_uri": "https://localhost:8080/"
    },
    "id": "7ma5AOwzKbHB",
    "outputId": "459cb1bf-03bc-41fe-bb5c-e6ee9c15f7d0"
   },
   "outputs": [
    {
     "name": "stdout",
     "output_type": "stream",
     "text": [
      "We should take concerns about the health of liberal democracy seriously This post is part of Polyarchy, an independent blog produced by the political reform program at New America, a Washington think tank devoted to developing new ideas and new voices. Imagine you are an otherwise healthy 30-something who starts feeling weird. You are sometimes short of breath. You get migraines. Your feet start to swell a little. But otherwise, everything seems fine. You go to the doctor. The doctor runs some tests. She tells you, It's probably nothing, but these could be signs of a coming heart attack. You push for more certainty, but the doctor tells you she's not sure. The human body is a complex system. You're young and otherwise pretty healthy. There could be plenty of other explanations for what you're feeling. But it is a little worrying. So just to be on the safe side, maybe you should reduce the stress in your life and eat a healthier diet. What would you do? If you're a sensible person, you'\n"
     ]
    }
   ],
   "source": [
    "print(data.head().loc[0, 'combined'][:1000])"
   ]
  },
  {
   "cell_type": "code",
   "execution_count": null,
   "metadata": {
    "colab": {
     "base_uri": "https://localhost:8080/"
    },
    "id": "iSQil-P4tcQ2",
    "outputId": "2de94934-0970-48f2-c124-95bc1f5d6b84"
   },
   "outputs": [
    {
     "name": "stdout",
     "output_type": "stream",
     "text": [
      "[nltk_data] Downloading package stopwords to /root/nltk_data...\n",
      "[nltk_data]   Unzipping corpora/stopwords.zip.\n"
     ]
    },
    {
     "data": {
      "text/plain": [
       "True"
      ]
     },
     "execution_count": 15,
     "metadata": {
      "tags": []
     },
     "output_type": "execute_result"
    }
   ],
   "source": [
    "nltk.download('stopwords')\n"
   ]
  },
  {
   "cell_type": "code",
   "execution_count": null,
   "metadata": {
    "id": "J3w9E4OhKbHC"
   },
   "outputs": [],
   "source": [
    "stop_words = stopwords.words(\"english\")\n",
    "punctuation = punctuation + '\\n' + '—' + '“' + ',' + '”' + '‘' + '-' + '’'\n"
   ]
  },
  {
   "cell_type": "markdown",
   "metadata": {
    "id": "6LqceHWJKbHC"
   },
   "source": [
    "### text preprocessing"
   ]
  },
  {
   "cell_type": "code",
   "execution_count": null,
   "metadata": {
    "id": "pssE56SPKbHD"
   },
   "outputs": [],
   "source": [
    "def text_preproc(x):\n",
    "    x = x.lower() #lower the text character\n",
    "    x = ' '.join([word for word in x.split(' ') if word not in stop_words])# remove stop words\n",
    "    x = x.encode('ascii', 'ignore').decode() #remove unicode characters\n",
    "    x = re.sub(r'https*\\S+', ' ', x) #remove urls\n",
    "    x = re.sub(r'@\\S+', ' ', x) # remove mentions\n",
    "    x = re.sub(r'#\\S+', ' ', x) # remove hashtags\n",
    "    x = re.sub(r'\\'\\w+', '', x) # remove ticks and the next chracter\n",
    "    x = re.sub('[%s]' % re.escape(string.punctuation), ' ', x)# remove punctuations\n",
    "    x = re.sub('[^a-zA-Z]',' ',x) #remove non alphabetic characters\n",
    "    x = re.sub(r'\\w*\\d+\\w*', '', x) # remove numbers\n",
    "    x = re.sub(r'\\s{2,}', ' ', x) # replace the overspaces\n",
    "    x = re.sub(r'\\w+:\\/{2}[\\d\\w-]+(\\.[\\d\\w-]+)*(?:(?:\\/[^\\s/]*))*', ' ',x) #remove url\n",
    "    x = re.sub('[\\n]',' ',x) #remove newline character\n",
    "    x = ''.join(word for word in x if word not in punctuation)\n",
    "    x = re.sub(r'\\b\\w{1,3}\\b', '',x)\n",
    "    x = x.replace(\"'\",\"\").replace('\"', ' ')\n",
    "    x = x.replace(\"'s\", '')\n",
    "    x = x.replace('’s', '')\n",
    "    x = x.replace(\"\\'s\", '')\n",
    "    x = x.replace(\"\\’s\", '')\n",
    "    \n",
    "    return x"
   ]
  },
  {
   "cell_type": "markdown",
   "metadata": {
    "id": "KU7iW61UDD_o"
   },
   "source": [
    "### apply text_preproc func on the data"
   ]
  },
  {
   "cell_type": "code",
   "execution_count": null,
   "metadata": {
    "id": "qyfQsHMqCgZs"
   },
   "outputs": [],
   "source": [
    "data['combined'] = data.combined.apply(lambda x: text_preproc(x),meta='combined')\n"
   ]
  },
  {
   "cell_type": "code",
   "execution_count": null,
   "metadata": {
    "colab": {
     "base_uri": "https://localhost:8080/"
    },
    "id": "Ffo4PGAdCm__",
    "outputId": "3b936520-17d9-4fba-c32e-2151802930e9"
   },
   "outputs": [
    {
     "name": "stdout",
     "output_type": "stream",
     "text": [
      "[nltk_data] Downloading package punkt to /root/nltk_data...\n",
      "[nltk_data]   Unzipping tokenizers/punkt.zip.\n"
     ]
    },
    {
     "data": {
      "text/plain": [
       "True"
      ]
     },
     "execution_count": 19,
     "metadata": {
      "tags": []
     },
     "output_type": "execute_result"
    }
   ],
   "source": [
    "nltk.download('punkt')"
   ]
  },
  {
   "cell_type": "code",
   "execution_count": null,
   "metadata": {
    "colab": {
     "base_uri": "https://localhost:8080/"
    },
    "id": "9d8Vxo8fCtKl",
    "outputId": "63140622-16a8-4195-eff8-b0c893d1ffde"
   },
   "outputs": [
    {
     "data": {
      "text/plain": [
       "0    take concerns health liberal democracy serious...\n",
       "1    colts  ryan grigson says andrew luck contract ...\n",
       "2    trump denies report ordered mueller fired davo...\n",
       "3    france sarkozy reveals insists come back cards...\n",
       "4    paris hilton woman black uncle monty funeral p...\n",
       "Name: combined, dtype: object"
      ]
     },
     "execution_count": 20,
     "metadata": {
      "tags": []
     },
     "output_type": "execute_result"
    }
   ],
   "source": [
    "data['combined'].head()"
   ]
  },
  {
   "cell_type": "code",
   "execution_count": null,
   "metadata": {
    "id": "cU5-ew3IDuYA"
   },
   "outputs": [],
   "source": [
    "\n",
    "!pip install contractions"
   ]
  },
  {
   "cell_type": "code",
   "execution_count": null,
   "metadata": {
    "id": "QsZBcCqLCGny"
   },
   "outputs": [],
   "source": [
    "from contractions import contractions_dict"
   ]
  },
  {
   "cell_type": "code",
   "execution_count": null,
   "metadata": {
    "id": "lafAHVYfCLOm"
   },
   "outputs": [],
   "source": [
    "def contracted_word_expansion(token):\n",
    "    if token in contractions_dict.keys():\n",
    "        return contractions_dict[token]\n",
    "    else:\n",
    "        return token\n"
   ]
  },
  {
   "cell_type": "code",
   "execution_count": null,
   "metadata": {
    "id": "9wPnWKuXCPTL"
   },
   "outputs": [],
   "source": [
    "def contractions_expansion(words):\n",
    "\n",
    "    return list(map(contracted_word_expansion,data['combined']))\n"
   ]
  },
  {
   "cell_type": "code",
   "execution_count": null,
   "metadata": {
    "id": "etjXldwbCRPG"
   },
   "outputs": [],
   "source": [
    "data['combined'] = data.combined.apply(str,lambda x:contractions_expansion(words))"
   ]
  },
  {
   "cell_type": "code",
   "execution_count": null,
   "metadata": {
    "colab": {
     "base_uri": "https://localhost:8080/"
    },
    "id": "ZCKiNon6CYLE",
    "outputId": "0dbf7efb-ef57-499d-9b93-4cc94aead4b7"
   },
   "outputs": [
    {
     "data": {
      "text/plain": [
       "0    take concerns health liberal democracy serious...\n",
       "1    colts  ryan grigson says andrew luck contract ...\n",
       "2    trump denies report ordered mueller fired davo...\n",
       "3    france sarkozy reveals insists come back cards...\n",
       "4    paris hilton woman black uncle monty funeral p...\n",
       "Name: combined, dtype: object"
      ]
     },
     "execution_count": 26,
     "metadata": {
      "tags": []
     },
     "output_type": "execute_result"
    }
   ],
   "source": [
    "data['combined'].head()"
   ]
  },
  {
   "cell_type": "code",
   "execution_count": null,
   "metadata": {
    "colab": {
     "base_uri": "https://localhost:8080/"
    },
    "id": "fPnJiy-ztnCN",
    "outputId": "f7fa833f-0d03-4684-adab-a2c97ae6bcf0"
   },
   "outputs": [
    {
     "name": "stdout",
     "output_type": "stream",
     "text": [
      "[nltk_data] Downloading package punkt to /root/nltk_data...\n",
      "[nltk_data]   Package punkt is already up-to-date!\n"
     ]
    },
    {
     "data": {
      "text/plain": [
       "True"
      ]
     },
     "execution_count": 27,
     "metadata": {
      "tags": []
     },
     "output_type": "execute_result"
    }
   ],
   "source": [
    "nltk.download('punkt')"
   ]
  },
  {
   "cell_type": "markdown",
   "metadata": {
    "id": "fKcSTO83a1PO"
   },
   "source": [
    "### stopwords removal"
   ]
  },
  {
   "cell_type": "code",
   "execution_count": null,
   "metadata": {
    "id": "7wE4AMltWTAJ"
   },
   "outputs": [],
   "source": [
    "en_stop_words = list(set(stopwords.words('english')).union(set(STOP_WORDS)))\n"
   ]
  },
  {
   "cell_type": "code",
   "execution_count": null,
   "metadata": {
    "id": "unJHThabWTCr"
   },
   "outputs": [],
   "source": [
    "def is_stopword(token):\n",
    "    return not(token in en_stop_words or re.search(r'\\b\\w\\b|[^\\u0000-\\u007f]+|_+|\\W+',token))\n"
   ]
  },
  {
   "cell_type": "code",
   "execution_count": null,
   "metadata": {
    "id": "0mRcThtQWTGJ"
   },
   "outputs": [],
   "source": [
    "def stopwords_removal(x):\n",
    "    return list(filter(is_stopword,data['combined']))\n",
    "  "
   ]
  },
  {
   "cell_type": "code",
   "execution_count": null,
   "metadata": {
    "id": "CMxuChuGWTJi"
   },
   "outputs": [],
   "source": [
    "data['combined'] = data['combined'].apply(str,lambda x:stopwords_removal(x))\n"
   ]
  },
  {
   "cell_type": "markdown",
   "metadata": {
    "id": "zyIXn7u2KbHE"
   },
   "source": [
    "### pos_tags(part_of_speech_tags .i.e. verb,adjective,noun,adverb) \n"
   ]
  },
  {
   "cell_type": "code",
   "execution_count": null,
   "metadata": {
    "id": "sjtwlvWzKbHE"
   },
   "outputs": [],
   "source": [
    "def get_wnet_pos_tag(treebank_tag):\n",
    "    if treebank_tag[1].startswith('J'):\n",
    "        return (treebank_tag[0],wordnet.ADJ)\n",
    "    elif treebank_tag[1].startswith('V'):\n",
    "        return (treebank_tag[0],wordnet.VERB)\n",
    "    elif treebank_tag[1].startswith('N'):\n",
    "        return (treebank_tag[0],wordnet.NOUN)\n",
    "    elif treebank_tag[1].startswith('R'):\n",
    "        return (treebank_tag[0],wordnet.ADV)\n",
    "    else:\n",
    "        (treebank_tag[0],wordnet.NOUN)"
   ]
  },
  {
   "cell_type": "code",
   "execution_count": null,
   "metadata": {
    "id": "BlWtoQUgKbHF"
   },
   "outputs": [],
   "source": [
    "\n",
    "def get_pos_tag(list_of_tokens):\n",
    "    return map(get_wnet_pos_tag,pos_tag(list_of_tokens))"
   ]
  },
  {
   "cell_type": "code",
   "execution_count": null,
   "metadata": {
    "id": "Re3o0igpKbHF"
   },
   "outputs": [],
   "source": [
    "data['combined'] = data['combined'].apply(str,lambda x: get_pos_tag(x),meta='combined')"
   ]
  },
  {
   "cell_type": "code",
   "execution_count": null,
   "metadata": {
    "id": "y0sG7ae1KbHF"
   },
   "outputs": [],
   "source": [
    "data['combined'] = data['combined'].apply(str,lambda x: list(x))"
   ]
  },
  {
   "cell_type": "code",
   "execution_count": null,
   "metadata": {
    "id": "imZB5YbWKbHF"
   },
   "outputs": [],
   "source": [
    "lemmatizer = WordNetLemmatizer()"
   ]
  },
  {
   "cell_type": "code",
   "execution_count": null,
   "metadata": {
    "id": "sSaRqs-vKbHF"
   },
   "outputs": [],
   "source": [
    "def token_lemmatization(token_pos_tuple):\n",
    "    if token_pos_tuple == None:\n",
    "        return \"\"\n",
    "    else:\n",
    "        return lemmatizer.lemmatize(word=token_pos_tuple[0],pos=token_pos_tuple[1])"
   ]
  },
  {
   "cell_type": "code",
   "execution_count": null,
   "metadata": {
    "id": "5av8a2RHKbHG"
   },
   "outputs": [],
   "source": [
    "def lemmatization(list_of_tokens):\n",
    "    if len(list_of_tokens) > 0:\n",
    "        return map(lambda x: token_lemmatization(x),list_of_tokens)"
   ]
  },
  {
   "cell_type": "code",
   "execution_count": null,
   "metadata": {
    "id": "OHS9mkcnKbHG"
   },
   "outputs": [],
   "source": [
    "data['combined'] = data['combined'].apply(str,lambda x: lemmatization(x))"
   ]
  },
  {
   "cell_type": "code",
   "execution_count": null,
   "metadata": {
    "id": "Asj1ciftKbHG",
    "scrolled": false
   },
   "outputs": [],
   "source": [
    "data['combined'] = data['combined'].apply(str,lambda x: list(x))"
   ]
  },
  {
   "cell_type": "code",
   "execution_count": null,
   "metadata": {
    "colab": {
     "base_uri": "https://localhost:8080/"
    },
    "id": "ULKSsHbIKbHG",
    "outputId": "41f857fb-eb43-4f5c-84b3-4a1eb06fe1ee"
   },
   "outputs": [
    {
     "data": {
      "text/plain": [
       "0    take concerns health liberal democracy serious...\n",
       "1    colts  ryan grigson says andrew luck contract ...\n",
       "2    trump denies report ordered mueller fired davo...\n",
       "3    france sarkozy reveals insists come back cards...\n",
       "4    paris hilton woman black uncle monty funeral p...\n",
       "Name: combined, dtype: object"
      ]
     },
     "execution_count": 41,
     "metadata": {
      "tags": []
     },
     "output_type": "execute_result"
    }
   ],
   "source": [
    "data['combined'].head()"
   ]
  },
  {
   "cell_type": "code",
   "execution_count": null,
   "metadata": {
    "id": "7-6b8Dd-KbHH"
   },
   "outputs": [],
   "source": [
    "wordfreq = {}\n",
    "for sentence in data.combined:\n",
    "    tokens = nltk.word_tokenize(sentence)\n",
    "    for token in tokens:\n",
    "        if token not in wordfreq.keys():\n",
    "            wordfreq[token] = 1\n",
    "        else:\n",
    "            wordfreq[token] += 1\n"
   ]
  },
  {
   "cell_type": "code",
   "execution_count": null,
   "metadata": {
    "id": "vxZ9kq6mKbHI"
   },
   "outputs": [],
   "source": [
    "import heapq\n",
    "most_freq = heapq.nlargest(200, wordfreq, key=wordfreq.get)\n"
   ]
  },
  {
   "cell_type": "code",
   "execution_count": null,
   "metadata": {
    "colab": {
     "base_uri": "https://localhost:8080/"
    },
    "id": "wUQqFt7aTuD0",
    "outputId": "5116a643-fae2-4260-9292-7990a58e8abd"
   },
   "outputs": [
    {
     "data": {
      "text/plain": [
       "['said',\n",
       " 'trump',\n",
       " 'would',\n",
       " 'people',\n",
       " 'year',\n",
       " 'also',\n",
       " 'like',\n",
       " 'time',\n",
       " 'first',\n",
       " 'president',\n",
       " 'could',\n",
       " 'last',\n",
       " 'percent',\n",
       " 'years',\n",
       " 'company',\n",
       " 'million',\n",
       " 'even',\n",
       " 'told',\n",
       " 'says',\n",
       " 'back',\n",
       " 'state',\n",
       " 'house',\n",
       " 'make',\n",
       " 'many',\n",
       " 'reuters',\n",
       " 'news',\n",
       " 'since',\n",
       " 'according',\n",
       " 'government',\n",
       " 'still',\n",
       " 'world',\n",
       " 'made',\n",
       " 'states',\n",
       " 'going',\n",
       " 'think',\n",
       " 'much',\n",
       " 'week',\n",
       " 'well',\n",
       " 'that',\n",
       " 'work',\n",
       " 'three',\n",
       " 'take',\n",
       " 'know',\n",
       " 'around',\n",
       " 'billion',\n",
       " 'want',\n",
       " 'long',\n",
       " 'right',\n",
       " 'white',\n",
       " 'including',\n",
       " 'china',\n",
       " 'next',\n",
       " 'united',\n",
       " 'former',\n",
       " 'market',\n",
       " 'group',\n",
       " 'business',\n",
       " 'york',\n",
       " 'public',\n",
       " 'american',\n",
       " 'good',\n",
       " 'part',\n",
       " 'high',\n",
       " 'report',\n",
       " 'another',\n",
       " 'really',\n",
       " 'month',\n",
       " 'deal',\n",
       " 'country',\n",
       " 'reporting',\n",
       " 'washington',\n",
       " 'home',\n",
       " 'need',\n",
       " 'life',\n",
       " 'national',\n",
       " 'show',\n",
       " 'women',\n",
       " 'health',\n",
       " 'campaign',\n",
       " 'data',\n",
       " 'companies',\n",
       " 'called',\n",
       " 'there',\n",
       " 'hill',\n",
       " 'best',\n",
       " 'help',\n",
       " 'times',\n",
       " 'tuesday',\n",
       " 'support',\n",
       " 'trade',\n",
       " 'something',\n",
       " 'city',\n",
       " 'second',\n",
       " 'court',\n",
       " 'come',\n",
       " 'dont',\n",
       " 'political',\n",
       " 'editing',\n",
       " 'party',\n",
       " 'media',\n",
       " 'every',\n",
       " 'statement',\n",
       " 'things',\n",
       " 'might',\n",
       " 'wednesday',\n",
       " 'thursday',\n",
       " 'security',\n",
       " 'monday',\n",
       " 'money',\n",
       " 'never',\n",
       " 'family',\n",
       " 'this',\n",
       " 'twitter',\n",
       " 'case',\n",
       " 'bank',\n",
       " 'federal',\n",
       " 'democrats',\n",
       " 'whether',\n",
       " 'little',\n",
       " 'friday',\n",
       " 'though',\n",
       " 'based',\n",
       " 'used',\n",
       " 'months',\n",
       " 'without',\n",
       " 'look',\n",
       " 'team',\n",
       " 'four',\n",
       " 'election',\n",
       " 'found',\n",
       " 'change',\n",
       " 'policy',\n",
       " 'game',\n",
       " 'days',\n",
       " 'added',\n",
       " 'senate',\n",
       " 'democratic',\n",
       " 'police',\n",
       " 'already',\n",
       " 'officials',\n",
       " 'financial',\n",
       " 'street',\n",
       " 'administration',\n",
       " 'making',\n",
       " 'office',\n",
       " 'recent',\n",
       " 'place',\n",
       " 'better',\n",
       " 'point',\n",
       " 'global',\n",
       " 'left',\n",
       " 'bill',\n",
       " 'power',\n",
       " 'later',\n",
       " 'five',\n",
       " 'reported',\n",
       " 'less',\n",
       " 'past',\n",
       " 'chief',\n",
       " 'facebook',\n",
       " 'thats',\n",
       " 'share',\n",
       " 'republican',\n",
       " 'early',\n",
       " 'number',\n",
       " 'real',\n",
       " 'among',\n",
       " 'today',\n",
       " 'earlier',\n",
       " 'department',\n",
       " 'story',\n",
       " 'working',\n",
       " 'expected',\n",
       " 'north',\n",
       " 'likely',\n",
       " 'donald',\n",
       " 'took',\n",
       " 'video',\n",
       " 'school',\n",
       " 'came',\n",
       " 'them',\n",
       " 'growth',\n",
       " 'least',\n",
       " 'social',\n",
       " 'asked',\n",
       " 'information',\n",
       " 'night',\n",
       " 'great',\n",
       " 'members',\n",
       " 'source',\n",
       " 'different',\n",
       " 'plan',\n",
       " 'saying',\n",
       " 'march',\n",
       " 'system',\n",
       " 'they',\n",
       " 'wrote',\n",
       " 'black',\n",
       " 'economic',\n",
       " 'view']"
      ]
     },
     "execution_count": 44,
     "metadata": {
      "tags": []
     },
     "output_type": "execute_result"
    }
   ],
   "source": [
    "most_freq"
   ]
  },
  {
   "cell_type": "code",
   "execution_count": null,
   "metadata": {
    "id": "tNEoQHhI90lZ"
   },
   "outputs": [],
   "source": []
  }
 ],
 "metadata": {
  "colab": {
   "collapsed_sections": [],
   "name": "BOW_on_news_article_using_dask.ipynb",
   "provenance": [],
   "toc_visible": true
  },
  "kernelspec": {
   "display_name": "Python 3",
   "language": "python",
   "name": "python3"
  },
  "language_info": {
   "codemirror_mode": {
    "name": "ipython",
    "version": 3
   },
   "file_extension": ".py",
   "mimetype": "text/x-python",
   "name": "python",
   "nbconvert_exporter": "python",
   "pygments_lexer": "ipython3",
   "version": "3.8.5"
  }
 },
 "nbformat": 4,
 "nbformat_minor": 1
}
